{
 "cells": [
  {
   "cell_type": "markdown",
   "id": "756a10c0",
   "metadata": {},
   "source": [
    "# Restricted Boltzmann Machines"
   ]
  },
  {
   "cell_type": "markdown",
   "id": "64355453",
   "metadata": {},
   "source": [
    "## Imports and Helper Functions"
   ]
  },
  {
   "cell_type": "code",
   "execution_count": 1,
   "id": "0f3ddb76",
   "metadata": {
    "ExecuteTime": {
     "end_time": "2023-03-22T16:00:30.821851Z",
     "start_time": "2023-03-22T16:00:30.006070Z"
    }
   },
   "outputs": [],
   "source": [
    "import numpy as np\n",
    "from matplotlib import pyplot as plt\n",
    "import math as m\n",
    "import pickle\n",
    "import sys\n",
    "from matplotlib.animation import FuncAnimation\n",
    "import train_imgs\n",
    "import time as t"
   ]
  },
  {
   "cell_type": "code",
   "execution_count": 3,
   "id": "e2c9a07b",
   "metadata": {
    "ExecuteTime": {
     "end_time": "2023-03-22T16:01:22.386802Z",
     "start_time": "2023-03-22T16:01:22.374800Z"
    }
   },
   "outputs": [],
   "source": [
    "def corrupt_img(img, k, return_flat=False):\n",
    "    img = img.flatten()\n",
    "    rands = np.random.permutation(img.shape[0])[:k]\n",
    "    img[rands] = img[rands]*-1\n",
    "    if return_flat: return img\n",
    "    return img.reshape(10, 10)"
   ]
  },
  {
   "cell_type": "markdown",
   "id": "f99d146f",
   "metadata": {},
   "source": [
    "## RBM Class"
   ]
  },
  {
   "cell_type": "code",
   "execution_count": 5,
   "id": "df0bcd61",
   "metadata": {
    "ExecuteTime": {
     "end_time": "2023-03-22T16:23:20.639812Z",
     "start_time": "2023-03-22T16:23:20.620813Z"
    }
   },
   "outputs": [],
   "source": [
    "class RBM():\n",
    "    \n",
    "    def __init__(self, Nv, Nh, training=0, weights=0, a=0, b=0, v=0, h=0):\n",
    "        self.Nv = Nv\n",
    "        self.Nh = Nh\n",
    "        if not training == 0:\n",
    "            self.training = training\n",
    "        if type(v)==int:\n",
    "            self.v = np.random.choice([-1, 1], size=Nv)\n",
    "        if type(h)==int:\n",
    "            self.h = np.random.choice([-1, 1], size=Nh)\n",
    "        if type(weights)==int:\n",
    "            self.w = 2*np.random.rand(Nv, Nh) - 1\n",
    "        if type(a)==int:\n",
    "            self.a = 2*np.random.rand(Nv) - 1\n",
    "        if type(b)==int:\n",
    "            self.b = 2*np.random.rand(Nh) - 1\n",
    "    \n",
    "    def calc_energy(self):\n",
    "        return -(self.v.T @ self.w @ self.h + self.v.T @ self.a + self.h.T @ self.b)"
   ]
  },
  {
   "cell_type": "code",
   "execution_count": 12,
   "id": "99857827",
   "metadata": {
    "ExecuteTime": {
     "end_time": "2023-03-22T16:23:38.480880Z",
     "start_time": "2023-03-22T16:23:38.462880Z"
    }
   },
   "outputs": [
    {
     "data": {
      "text/plain": [
       "1.9836619747855682"
      ]
     },
     "execution_count": 12,
     "metadata": {},
     "output_type": "execute_result"
    }
   ],
   "source": [
    "testing = RBM(7, 2)\n",
    "testing.calc_energy()"
   ]
  },
  {
   "cell_type": "code",
   "execution_count": null,
   "id": "a7220b0d",
   "metadata": {},
   "outputs": [],
   "source": []
  }
 ],
 "metadata": {
  "kernelspec": {
   "display_name": "Python 3 (ipykernel)",
   "language": "python",
   "name": "python3"
  },
  "language_info": {
   "codemirror_mode": {
    "name": "ipython",
    "version": 3
   },
   "file_extension": ".py",
   "mimetype": "text/x-python",
   "name": "python",
   "nbconvert_exporter": "python",
   "pygments_lexer": "ipython3",
   "version": "3.9.13"
  },
  "varInspector": {
   "cols": {
    "lenName": 16,
    "lenType": 16,
    "lenVar": 40
   },
   "kernels_config": {
    "python": {
     "delete_cmd_postfix": "",
     "delete_cmd_prefix": "del ",
     "library": "var_list.py",
     "varRefreshCmd": "print(var_dic_list())"
    },
    "r": {
     "delete_cmd_postfix": ") ",
     "delete_cmd_prefix": "rm(",
     "library": "var_list.r",
     "varRefreshCmd": "cat(var_dic_list()) "
    }
   },
   "types_to_exclude": [
    "module",
    "function",
    "builtin_function_or_method",
    "instance",
    "_Feature"
   ],
   "window_display": false
  }
 },
 "nbformat": 4,
 "nbformat_minor": 5
}
