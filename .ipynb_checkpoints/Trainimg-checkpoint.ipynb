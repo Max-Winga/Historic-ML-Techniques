{
 "cells": [
  {
   "cell_type": "code",
   "execution_count": 2,
   "id": "fcdea6c0",
   "metadata": {
    "ExecuteTime": {
     "end_time": "2023-03-19T18:28:33.767857Z",
     "start_time": "2023-03-19T18:28:33.753895Z"
    }
   },
   "outputs": [],
   "source": [
    "import numpy\n",
    "import pylab\n",
    "\n",
    "def print_image_number(a):\n",
    "\tflat = numpy.ndarray.flatten(a)\n",
    "\tprint(''.join(['0' if neuron == -1 else '1' for neuron in flat]))\n",
    "\n",
    "def make_face():\n",
    "    face=numpy.full((10,10),-1,dtype=int)\n",
    "    face[9,0]=1\n",
    "    face[8,1]=1\n",
    "    face[7,2]=1\n",
    "    face[6,3]=1\n",
    "    face[6,4]=1\n",
    "    face[6,5]=1\n",
    "    face[7,6]=1\n",
    "    face[8,7]=1\n",
    "    face[8,8]=1\n",
    "    face[9,9]=1\n",
    "    face[1,3]=1\n",
    "    face[1,7]=1\n",
    "    face[4,4]=1\n",
    "    return face\n",
    "\n",
    "def make_tree():\n",
    "    tree=numpy.full((10,10),-1,dtype=int)\n",
    "    for i in range(0,10):\n",
    "        tree[i,4]=1\n",
    "        tree[i,5]=1\n",
    "    for i in range(3,7):\n",
    "        tree[1,i]=1\n",
    "        tree[0,i]=1\n",
    "    for i in range(2,9):\n",
    "        tree[4,i]=1\n",
    "    tree[5,8]=1\n",
    "    return tree"
   ]
  },
  {
   "cell_type": "code",
   "execution_count": null,
   "id": "c2af82c9",
   "metadata": {},
   "outputs": [],
   "source": []
  }
 ],
 "metadata": {
  "kernelspec": {
   "display_name": "Python 3 (ipykernel)",
   "language": "python",
   "name": "python3"
  },
  "language_info": {
   "codemirror_mode": {
    "name": "ipython",
    "version": 3
   },
   "file_extension": ".py",
   "mimetype": "text/x-python",
   "name": "python",
   "nbconvert_exporter": "python",
   "pygments_lexer": "ipython3",
   "version": "3.9.13"
  },
  "varInspector": {
   "cols": {
    "lenName": 16,
    "lenType": 16,
    "lenVar": 40
   },
   "kernels_config": {
    "python": {
     "delete_cmd_postfix": "",
     "delete_cmd_prefix": "del ",
     "library": "var_list.py",
     "varRefreshCmd": "print(var_dic_list())"
    },
    "r": {
     "delete_cmd_postfix": ") ",
     "delete_cmd_prefix": "rm(",
     "library": "var_list.r",
     "varRefreshCmd": "cat(var_dic_list()) "
    }
   },
   "types_to_exclude": [
    "module",
    "function",
    "builtin_function_or_method",
    "instance",
    "_Feature"
   ],
   "window_display": false
  }
 },
 "nbformat": 4,
 "nbformat_minor": 5
}
