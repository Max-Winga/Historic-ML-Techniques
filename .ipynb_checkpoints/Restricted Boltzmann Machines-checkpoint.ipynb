{
 "cells": [
  {
   "cell_type": "markdown",
   "id": "756a10c0",
   "metadata": {},
   "source": [
    "# Restricted Boltzmann Machines"
   ]
  },
  {
   "cell_type": "markdown",
   "id": "64355453",
   "metadata": {},
   "source": [
    "## Imports and Helper Functions"
   ]
  },
  {
   "cell_type": "code",
   "execution_count": 1,
   "id": "0f3ddb76",
   "metadata": {
    "ExecuteTime": {
     "end_time": "2023-03-22T17:22:36.274802Z",
     "start_time": "2023-03-22T17:22:35.618556Z"
    }
   },
   "outputs": [],
   "source": [
    "import numpy as np\n",
    "from matplotlib import pyplot as plt\n",
    "import math as m\n",
    "import pickle\n",
    "import sys\n",
    "from matplotlib.animation import FuncAnimation\n",
    "import train_imgs\n",
    "import time as t"
   ]
  },
  {
   "cell_type": "code",
   "execution_count": 2,
   "id": "e2c9a07b",
   "metadata": {
    "ExecuteTime": {
     "end_time": "2023-03-22T17:22:36.906115Z",
     "start_time": "2023-03-22T17:22:36.898137Z"
    }
   },
   "outputs": [],
   "source": [
    "def corrupt_img(img, k, return_flat=False):\n",
    "    img = img.flatten()\n",
    "    rands = np.random.permutation(img.shape[0])[:k]\n",
    "    img[rands] = img[rands]*-1\n",
    "    if return_flat: return img\n",
    "    return img.reshape(10, 10)"
   ]
  },
  {
   "cell_type": "markdown",
   "id": "f99d146f",
   "metadata": {},
   "source": [
    "## RBM Class"
   ]
  },
  {
   "cell_type": "code",
   "execution_count": 78,
   "id": "df0bcd61",
   "metadata": {
    "ExecuteTime": {
     "end_time": "2023-03-22T18:01:43.553960Z",
     "start_time": "2023-03-22T18:01:43.544985Z"
    }
   },
   "outputs": [],
   "source": [
    "class RBM():\n",
    "    \n",
    "    def __init__(self, Nv, Nh, training=0, weights=0, a=0, b=0, v=0, h=0):\n",
    "        self.Nv = Nv\n",
    "        self.Nh = Nh\n",
    "        if not training == 0:\n",
    "            self.training = training\n",
    "        if type(v)==int:\n",
    "            self.v = np.random.choice([-1, 1], size=Nv)\n",
    "        if type(h)==int:\n",
    "            self.h = np.random.choice([-1, 1], size=Nh)\n",
    "        if type(weights)==int:\n",
    "            self.w = 2*np.random.rand(Nv, Nh) - 1\n",
    "        if type(a)==int:\n",
    "            self.a = 2*np.random.rand(Nv) - 1\n",
    "        if type(b)==int:\n",
    "            self.b = 2*np.random.rand(Nh) - 1\n",
    "    \n",
    "    def calc_energy(self):\n",
    "        return -(self.v.T @ self.w @ self.h + self.v.T @ self.a + self.h.T @ self.b) \n",
    "    \n",
    "    def sample_hidden(self):\n",
    "        mh = self.w.T @ self.v + self.b\n",
    "        ps = np.exp(mh)/(np.exp(mh)+np.exp(-mh))\n",
    "        randgen = np.random.rand(ps.shape[0])\n",
    "        spins = np.array([2*int(res)-1 for res in ps > randgen])\n",
    "        return spins\n",
    "    \n",
    "    def sample_visible(self):\n",
    "        mv = self.w @ self.h + self.a\n",
    "        ps = np.exp(mv)/(np.exp(mv)+np.exp(-mv))\n",
    "        spins = np.array([2*int(res)-1 for res in ps > np.random.rand(ps.shape[0])])\n",
    "        return spins\n",
    "    \n",
    "    def gibbs(self, k=10, n=100000):\n",
    "        h_samples = []\n",
    "        v_samples = []\n",
    "        for i in range(n):\n",
    "            for j in range(k):\n",
    "                self.h = self.sample_hidden()\n",
    "                self.v = self.sample_visible()\n",
    "            h_samples.append(self.h)\n",
    "            v_samples.append(self.v)\n",
    "        return np.array(h_samples), np.array(v_samples)\n",
    "    \n",
    "    def get_state(self):\n",
    "        return np.concatenate((self.v, self.h))"
   ]
  },
  {
   "cell_type": "markdown",
   "id": "a5743eed",
   "metadata": {},
   "source": [
    "## Testing RBM"
   ]
  },
  {
   "cell_type": "code",
   "execution_count": 63,
   "id": "99857827",
   "metadata": {
    "ExecuteTime": {
     "end_time": "2023-03-22T17:57:43.375810Z",
     "start_time": "2023-03-22T17:57:43.363842Z"
    }
   },
   "outputs": [
    {
     "name": "stdout",
     "output_type": "stream",
     "text": [
      "[ 1 -1]\n",
      "[ 1 -1  1]\n",
      "[[-0.39607405  0.28784871 -0.67954555]\n",
      " [ 0.80757053  0.01230697  0.88615692]]\n",
      "[-0.68164402  0.06218167]\n",
      "[0.56894236 0.14172034 0.38343539]\n",
      "2.9780570778654867\n",
      "[-1  1 -1]\n",
      "[-1  1]\n"
     ]
    }
   ],
   "source": [
    "testing = RBM(2, 3)\n",
    "print(testing.v)\n",
    "print(testing.h)\n",
    "print(testing.w)\n",
    "print(testing.a)\n",
    "print(testing.b)\n",
    "print(testing.calc_energy())\n",
    "print(testing.sample_hidden())\n",
    "print(testing.sample_visible())"
   ]
  },
  {
   "cell_type": "code",
   "execution_count": 87,
   "id": "a7220b0d",
   "metadata": {
    "ExecuteTime": {
     "end_time": "2023-03-22T18:03:11.833044Z",
     "start_time": "2023-03-22T18:02:52.452836Z"
    }
   },
   "outputs": [
    {
     "name": "stdout",
     "output_type": "stream",
     "text": [
      "(100000, 2)\n",
      "(100000, 5)\n"
     ]
    }
   ],
   "source": [
    "testing = RBM(5, 2)\n",
    "# h_samples, v_samples = testing.gibbs(10, 100000)\n",
    "print(h_samples.shape)\n",
    "print(v_samples.shape)"
   ]
  },
  {
   "cell_type": "code",
   "execution_count": 88,
   "id": "87952d3a",
   "metadata": {
    "ExecuteTime": {
     "end_time": "2023-03-22T18:07:54.935485Z",
     "start_time": "2023-03-22T18:07:54.903570Z"
    }
   },
   "outputs": [],
   "source": [
    "# with open(\"Gibbs_samples_h.pkl\", \"wb\") as fp:   #Pickling\n",
    "#     pickle.dump(h_samples, fp)\n",
    "# with open(\"Gibbs_samples_v.pkl\", \"wb\") as fp:   #Pickling\n",
    "#     pickle.dump(v_samples, fp)\n",
    "    \n",
    "with open(\"Gibbs_samples_h.pkl\", \"rb\") as fp:   # Unpickling\n",
    "    h_samples = pickle.load(fp)\n",
    "with open(\"Gibbs_samples_v.pkl\", \"rb\") as fp:   # Unpickling\n",
    "    v_samples = pickle.load(fp)"
   ]
  },
  {
   "cell_type": "code",
   "execution_count": 91,
   "id": "83e83309",
   "metadata": {
    "ExecuteTime": {
     "end_time": "2023-03-22T18:08:50.424197Z",
     "start_time": "2023-03-22T18:08:50.281579Z"
    }
   },
   "outputs": [
    {
     "data": {
      "image/png": "[encoded data removed]",
      "text/plain": [
       "<Figure size 640x480 with 1 Axes>"
      ]
     },
     "metadata": {},
     "output_type": "display_data"
    }
   ],
   "source": [
    "plt.figure()\n",
    "plt.hist(v_samples)\n",
    "plt.show()"
   ]
  },
  {
   "cell_type": "code",
   "execution_count": 77,
   "id": "d0f421eb",
   "metadata": {
    "ExecuteTime": {
     "end_time": "2023-03-22T18:00:31.982228Z",
     "start_time": "2023-03-22T18:00:31.975247Z"
    }
   },
   "outputs": [
    {
     "data": {
      "text/plain": [
       "numpy.ndarray"
      ]
     },
     "execution_count": 77,
     "metadata": {},
     "output_type": "execute_result"
    }
   ],
   "source": [
    "type(testing.v)"
   ]
  },
  {
   "cell_type": "code",
   "execution_count": null,
   "id": "a2a33353",
   "metadata": {},
   "outputs": [],
   "source": []
  }
 ],
 "metadata": {
  "kernelspec": {
   "display_name": "Python 3 (ipykernel)",
   "language": "python",
   "name": "python3"
  },
  "language_info": {
   "codemirror_mode": {
    "name": "ipython",
    "version": 3
   },
   "file_extension": ".py",
   "mimetype": "text/x-python",
   "name": "python",
   "nbconvert_exporter": "python",
   "pygments_lexer": "ipython3",
   "version": "3.9.13"
  },
  "toc": {
   "base_numbering": 1,
   "nav_menu": {},
   "number_sections": true,
   "sideBar": true,
   "skip_h1_title": false,
   "title_cell": "Table of Contents",
   "title_sidebar": "Contents",
   "toc_cell": false,
   "toc_position": {},
   "toc_section_display": true,
   "toc_window_display": false
  },
  "varInspector": {
   "cols": {
    "lenName": 16,
    "lenType": 16,
    "lenVar": 40
   },
   "kernels_config": {
    "python": {
     "delete_cmd_postfix": "",
     "delete_cmd_prefix": "del ",
     "library": "var_list.py",
     "varRefreshCmd": "print(var_dic_list())"
    },
    "r": {
     "delete_cmd_postfix": ") ",
     "delete_cmd_prefix": "rm(",
     "library": "var_list.r",
     "varRefreshCmd": "cat(var_dic_list()) "
    }
   },
   "types_to_exclude": [
    "module",
    "function",
    "builtin_function_or_method",
    "instance",
    "_Feature"
   ],
   "window_display": false
  }
 },
 "nbformat": 4,
 "nbformat_minor": 5
}
