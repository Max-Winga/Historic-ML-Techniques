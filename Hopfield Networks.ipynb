{
 "cells": [
  {
   "cell_type": "code",
   "execution_count": 1,
   "id": "67293355",
   "metadata": {
    "ExecuteTime": {
     "end_time": "2023-03-06T17:06:22.021427Z",
     "start_time": "2023-03-06T17:06:20.961409Z"
    }
   },
   "outputs": [],
   "source": [
    "import numpy as np\n",
    "from matplotlib import pyplot as plt\n",
    "import math as m\n",
    "import pickle\n",
    "import sys\n",
    "from  matplotlib.animation import FuncAnimation"
   ]
  },
  {
   "cell_type": "code",
   "execution_count": 6,
   "id": "ad5ba3df",
   "metadata": {
    "ExecuteTime": {
     "end_time": "2023-03-06T17:26:29.482279Z",
     "start_time": "2023-03-06T17:26:29.462278Z"
    }
   },
   "outputs": [
    {
     "ename": "IndentationError",
     "evalue": "expected an indented block (2941665890.py, line 17)",
     "output_type": "error",
     "traceback": [
      "\u001b[1;36m  File \u001b[1;32m\"C:\\Users\\icedn\\AppData\\Local\\Temp\\ipykernel_25400\\2941665890.py\"\u001b[1;36m, line \u001b[1;32m17\u001b[0m\n\u001b[1;33m    \u001b[0m\n\u001b[1;37m    ^\u001b[0m\n\u001b[1;31mIndentationError\u001b[0m\u001b[1;31m:\u001b[0m expected an indented block\n"
     ]
    }
   ],
   "source": [
    "class Hopfield():\n",
    "    \n",
    "    def __init__(self, L, training, state=0):\n",
    "        self.L = L\n",
    "        self.n = int(L**2)\n",
    "        if type(state)==int:\n",
    "            self.state = 2*np.random.rand(self.n)-1\n",
    "        else:\n",
    "            self.state = np.flatten(state)\n",
    "        self.J = np.zeros(shape=[self.n, self.n])\n",
    "        try:\n",
    "            num_trains = len(training)\n",
    "        except:\n",
    "            traini\n",
    "        for i in range(len(training)):\n",
    "            \n",
    "        "
   ]
  },
  {
   "cell_type": "code",
   "execution_count": null,
   "id": "8e109d5c",
   "metadata": {},
   "outputs": [],
   "source": []
  }
 ],
 "metadata": {
  "kernelspec": {
   "display_name": "Python 3 (ipykernel)",
   "language": "python",
   "name": "python3"
  },
  "language_info": {
   "codemirror_mode": {
    "name": "ipython",
    "version": 3
   },
   "file_extension": ".py",
   "mimetype": "text/x-python",
   "name": "python",
   "nbconvert_exporter": "python",
   "pygments_lexer": "ipython3",
   "version": "3.9.13"
  },
  "varInspector": {
   "cols": {
    "lenName": 16,
    "lenType": 16,
    "lenVar": 40
   },
   "kernels_config": {
    "python": {
     "delete_cmd_postfix": "",
     "delete_cmd_prefix": "del ",
     "library": "var_list.py",
     "varRefreshCmd": "print(var_dic_list())"
    },
    "r": {
     "delete_cmd_postfix": ") ",
     "delete_cmd_prefix": "rm(",
     "library": "var_list.r",
     "varRefreshCmd": "cat(var_dic_list()) "
    }
   },
   "types_to_exclude": [
    "module",
    "function",
    "builtin_function_or_method",
    "instance",
    "_Feature"
   ],
   "window_display": false
  }
 },
 "nbformat": 4,
 "nbformat_minor": 5
}
