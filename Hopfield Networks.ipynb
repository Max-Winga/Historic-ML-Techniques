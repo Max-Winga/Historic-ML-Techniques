{
 "cells": [
  {
   "cell_type": "code",
   "execution_count": 30,
   "id": "67293355",
   "metadata": {
    "ExecuteTime": {
     "end_time": "2023-03-08T17:23:59.234729Z",
     "start_time": "2023-03-08T17:23:59.219734Z"
    }
   },
   "outputs": [],
   "source": [
    "import numpy as np\n",
    "from matplotlib import pyplot as plt\n",
    "import math as m\n",
    "import pickle\n",
    "import sys\n",
    "from matplotlib.animation import FuncAnimation"
   ]
  },
  {
   "cell_type": "code",
   "execution_count": 39,
   "id": "ad5ba3df",
   "metadata": {
    "ExecuteTime": {
     "end_time": "2023-03-08T17:26:31.441557Z",
     "start_time": "2023-03-08T17:26:31.424214Z"
    }
   },
   "outputs": [],
   "source": [
    "class Hopfield():\n",
    "    \n",
    "    def __init__(self, L, training=0, s=0, random=False):\n",
    "        self.L = L\n",
    "        self.n = int(L**2)\n",
    "        if type(s)==int:\n",
    "            self.s = np.random.choice([-1, 1], size=self.n)\n",
    "        else:\n",
    "            self.s = np.flatten(s)\n",
    "        self.bias = 2*np.random.rand(self.n) - 1\n",
    "        if random:\n",
    "            init_w = 2*np.random.rand(self.n, self.n) - 1\n",
    "            self.w = (init_w + init_w.T)/2\n",
    "            np.fill_diagonal(self.w, 0)\n",
    "        else:\n",
    "            try:\n",
    "                num_trains = len(training)\n",
    "                training = np.array(training)\n",
    "            except:\n",
    "                training = np.array[training]\n",
    "                num_trains = 1\n",
    "            self.w = np.zeros(self.n, self.n)\n",
    "            print(\"weights set to zero\")\n",
    "            ## training\n",
    "        self.energy = self.calc_energy()\n",
    "        self.energy_history = [self.energy]\n",
    "        \n",
    "    def calc_energy(self):\n",
    "        return self.s.T@self.w@self.s + self.bias.T@self.s\n",
    "    \n",
    "    def E_current(self, pt):\n",
    "        return self.s[pt]*np.sum(self.w[pt]@self.s)\n",
    "    \n",
    "    def run(self, sweeps):\n",
    "        for sweep in range(sweeps): \n",
    "            points = np.random.randint(self.n, size=[self.n])\n",
    "            for pt in points:\n",
    "                E = self.E_current(pt)\n",
    "                if E > 0:\n",
    "                    self.s[pt] = self.s[pt]*-1\n",
    "                    self.energy += -2*E\n",
    "            self.energy_history.append(self.energy)\n",
    "        return self.s"
   ]
  },
  {
   "cell_type": "code",
   "execution_count": 42,
   "id": "8e109d5c",
   "metadata": {
    "ExecuteTime": {
     "end_time": "2023-03-08T17:28:36.475459Z",
     "start_time": "2023-03-08T17:28:35.370010Z"
    },
    "scrolled": true
   },
   "outputs": [
    {
     "data": {
      "image/png": "[encoded data removed]",
      "text/plain": [
       "<Figure size 640x480 with 1 Axes>"
      ]
     },
     "metadata": {},
     "output_type": "display_data"
    }
   ],
   "source": [
    "energies = []\n",
    "for i in range(10):\n",
    "    testing = Hopfield(10, random=True)\n",
    "    testing.run(100)\n",
    "    energies.append(testing.energy_history)\n",
    "plt.figure()\n",
    "for i in range(len(energies)):\n",
    "    plt.plot(energies[i])\n",
    "plt.show()"
   ]
  },
  {
   "cell_type": "code",
   "execution_count": null,
   "id": "b74cedf0",
   "metadata": {},
   "outputs": [],
   "source": []
  }
 ],
 "metadata": {
  "kernelspec": {
   "display_name": "Python 3 (ipykernel)",
   "language": "python",
   "name": "python3"
  },
  "language_info": {
   "codemirror_mode": {
    "name": "ipython",
    "version": 3
   },
   "file_extension": ".py",
   "mimetype": "text/x-python",
   "name": "python",
   "nbconvert_exporter": "python",
   "pygments_lexer": "ipython3",
   "version": "3.9.13"
  },
  "varInspector": {
   "cols": {
    "lenName": 16,
    "lenType": 16,
    "lenVar": 40
   },
   "kernels_config": {
    "python": {
     "delete_cmd_postfix": "",
     "delete_cmd_prefix": "del ",
     "library": "var_list.py",
     "varRefreshCmd": "print(var_dic_list())"
    },
    "r": {
     "delete_cmd_postfix": ") ",
     "delete_cmd_prefix": "rm(",
     "library": "var_list.r",
     "varRefreshCmd": "cat(var_dic_list()) "
    }
   },
   "types_to_exclude": [
    "module",
    "function",
    "builtin_function_or_method",
    "instance",
    "_Feature"
   ],
   "window_display": false
  }
 },
 "nbformat": 4,
 "nbformat_minor": 5
}
