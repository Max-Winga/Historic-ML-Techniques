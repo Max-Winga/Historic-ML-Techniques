{
 "cells": [
  {
   "cell_type": "markdown",
   "id": "669f560c",
   "metadata": {},
   "source": [
    "# Imports and Helper Functions"
   ]
  },
  {
   "cell_type": "code",
   "execution_count": 2,
   "id": "d30dd603",
   "metadata": {
    "ExecuteTime": {
     "end_time": "2023-04-05T15:07:39.548119Z",
     "start_time": "2023-04-05T15:07:39.531121Z"
    }
   },
   "outputs": [],
   "source": [
    "## Imports\n",
    "import numpy as np\n",
    "import math as m\n",
    "import pylab as plt\n",
    "import pickle\n",
    "import sys\n",
    "from matplotlib.animation import FuncAnimation\n",
    "import time as t"
   ]
  },
  {
   "cell_type": "code",
   "execution_count": null,
   "id": "4f3b9579",
   "metadata": {},
   "outputs": [],
   "source": [
    "## Helper Functions\n",
    "def forward_diffusion(x0, T, delta):\n",
    "    xs = [x0]\n",
    "    for _ in range(T):\n",
    "        xs.append(xs[-1] + (delta/2)*np.grad)"
   ]
  },
  {
   "cell_type": "code",
   "execution_count": null,
   "id": "ac3b3d10",
   "metadata": {},
   "outputs": [],
   "source": [
    "class Diffusion():\n",
    "    def __init__(self, ):\n",
    "        "
   ]
  }
 ],
 "metadata": {
  "kernelspec": {
   "display_name": "Python 3 (ipykernel)",
   "language": "python",
   "name": "python3"
  },
  "language_info": {
   "codemirror_mode": {
    "name": "ipython",
    "version": 3
   },
   "file_extension": ".py",
   "mimetype": "text/x-python",
   "name": "python",
   "nbconvert_exporter": "python",
   "pygments_lexer": "ipython3",
   "version": "3.9.13"
  },
  "varInspector": {
   "cols": {
    "lenName": 16,
    "lenType": 16,
    "lenVar": 40
   },
   "kernels_config": {
    "python": {
     "delete_cmd_postfix": "",
     "delete_cmd_prefix": "del ",
     "library": "var_list.py",
     "varRefreshCmd": "print(var_dic_list())"
    },
    "r": {
     "delete_cmd_postfix": ") ",
     "delete_cmd_prefix": "rm(",
     "library": "var_list.r",
     "varRefreshCmd": "cat(var_dic_list()) "
    }
   },
   "types_to_exclude": [
    "module",
    "function",
    "builtin_function_or_method",
    "instance",
    "_Feature"
   ],
   "window_display": false
  }
 },
 "nbformat": 4,
 "nbformat_minor": 5
}
